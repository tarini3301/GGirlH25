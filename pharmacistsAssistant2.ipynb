{
  "cells": [
    {
      "cell_type": "markdown",
      "metadata": {
        "id": "view-in-github",
        "colab_type": "text"
      },
      "source": [
        "<a href=\"https://colab.research.google.com/github/tarini3301/GGirlH25/blob/main/pharmacistsAssistant2.ipynb\" target=\"_parent\"><img src=\"https://colab.research.google.com/assets/colab-badge.svg\" alt=\"Open In Colab\"/></a>"
      ]
    },
    {
      "cell_type": "code",
      "execution_count": null,
      "id": "e07c67d8",
      "metadata": {
        "_cell_guid": "b1076dfc-b9ad-4769-8c92-a6c4dae69d19",
        "_uuid": "8f2839f25d086af736a60e9eeb907d3b93b6e0e5",
        "execution": {
          "iopub.execute_input": "2024-12-05T06:24:22.756746Z",
          "iopub.status.busy": "2024-12-05T06:24:22.755482Z",
          "iopub.status.idle": "2024-12-05T06:24:23.914031Z",
          "shell.execute_reply": "2024-12-05T06:24:23.912912Z"
        },
        "papermill": {
          "duration": 1.169297,
          "end_time": "2024-12-05T06:24:23.916556",
          "exception": false,
          "start_time": "2024-12-05T06:24:22.747259",
          "status": "completed"
        },
        "tags": [],
        "id": "e07c67d8"
      },
      "outputs": [],
      "source": [
        "import pandas as pd\n",
        "import numpy as np\n",
        "import os\n",
        "import cv2"
      ]
    },
    {
      "cell_type": "code",
      "execution_count": null,
      "id": "899b8678",
      "metadata": {
        "execution": {
          "iopub.execute_input": "2024-12-05T06:24:23.930582Z",
          "iopub.status.busy": "2024-12-05T06:24:23.929619Z",
          "iopub.status.idle": "2024-12-05T06:24:24.008924Z",
          "shell.execute_reply": "2024-12-05T06:24:24.008014Z"
        },
        "papermill": {
          "duration": 0.088962,
          "end_time": "2024-12-05T06:24:24.011356",
          "exception": false,
          "start_time": "2024-12-05T06:24:23.922394",
          "status": "completed"
        },
        "tags": [],
        "id": "899b8678"
      },
      "outputs": [],
      "source": [
        "#import the training ,test and validation sets\n",
        "\n",
        "df_test = pd.read_csv(\"/kaggle/input/doctors-handwritten-prescription-bd-dataset/Doctor’s Handwritten Prescription BD dataset/Testing/testing_labels.csv\")\n",
        "df_train= pd.read_csv(\"/kaggle/input/doctors-handwritten-prescription-bd-dataset/Doctor’s Handwritten Prescription BD dataset/Training/training_labels.csv\")\n",
        "\n",
        "df_val = pd.read_csv(\"/kaggle/input/doctors-handwritten-prescription-bd-dataset/Doctor’s Handwritten Prescription BD dataset/Validation/validation_labels.csv\")"
      ]
    },
    {
      "cell_type": "code",
      "execution_count": null,
      "id": "2240f9b0",
      "metadata": {
        "execution": {
          "iopub.execute_input": "2024-12-05T06:24:24.024455Z",
          "iopub.status.busy": "2024-12-05T06:24:24.023755Z",
          "iopub.status.idle": "2024-12-05T06:24:24.046663Z",
          "shell.execute_reply": "2024-12-05T06:24:24.045576Z"
        },
        "papermill": {
          "duration": 0.031914,
          "end_time": "2024-12-05T06:24:24.048963",
          "exception": false,
          "start_time": "2024-12-05T06:24:24.017049",
          "status": "completed"
        },
        "tags": [],
        "id": "2240f9b0",
        "outputId": "a868effc-1cb2-4905-bace-74db2fe4287f"
      },
      "outputs": [
        {
          "data": {
            "text/html": [
              "<div>\n",
              "<style scoped>\n",
              "    .dataframe tbody tr th:only-of-type {\n",
              "        vertical-align: middle;\n",
              "    }\n",
              "\n",
              "    .dataframe tbody tr th {\n",
              "        vertical-align: top;\n",
              "    }\n",
              "\n",
              "    .dataframe thead th {\n",
              "        text-align: right;\n",
              "    }\n",
              "</style>\n",
              "<table border=\"1\" class=\"dataframe\">\n",
              "  <thead>\n",
              "    <tr style=\"text-align: right;\">\n",
              "      <th></th>\n",
              "      <th>IMAGE</th>\n",
              "      <th>MEDICINE_NAME</th>\n",
              "      <th>GENERIC_NAME</th>\n",
              "    </tr>\n",
              "  </thead>\n",
              "  <tbody>\n",
              "    <tr>\n",
              "      <th>0</th>\n",
              "      <td>0.png</td>\n",
              "      <td>Aceta</td>\n",
              "      <td>Paracetamol</td>\n",
              "    </tr>\n",
              "    <tr>\n",
              "      <th>1</th>\n",
              "      <td>1.png</td>\n",
              "      <td>Aceta</td>\n",
              "      <td>Paracetamol</td>\n",
              "    </tr>\n",
              "    <tr>\n",
              "      <th>2</th>\n",
              "      <td>2.png</td>\n",
              "      <td>Aceta</td>\n",
              "      <td>Paracetamol</td>\n",
              "    </tr>\n",
              "    <tr>\n",
              "      <th>3</th>\n",
              "      <td>3.png</td>\n",
              "      <td>Aceta</td>\n",
              "      <td>Paracetamol</td>\n",
              "    </tr>\n",
              "    <tr>\n",
              "      <th>4</th>\n",
              "      <td>4.png</td>\n",
              "      <td>Aceta</td>\n",
              "      <td>Paracetamol</td>\n",
              "    </tr>\n",
              "    <tr>\n",
              "      <th>...</th>\n",
              "      <td>...</td>\n",
              "      <td>...</td>\n",
              "      <td>...</td>\n",
              "    </tr>\n",
              "    <tr>\n",
              "      <th>3115</th>\n",
              "      <td>3115.png</td>\n",
              "      <td>Zithrin</td>\n",
              "      <td>Azithromycin Dihydrate</td>\n",
              "    </tr>\n",
              "    <tr>\n",
              "      <th>3116</th>\n",
              "      <td>3116.png</td>\n",
              "      <td>Zithrin</td>\n",
              "      <td>Azithromycin Dihydrate</td>\n",
              "    </tr>\n",
              "    <tr>\n",
              "      <th>3117</th>\n",
              "      <td>3117.png</td>\n",
              "      <td>Zithrin</td>\n",
              "      <td>Azithromycin Dihydrate</td>\n",
              "    </tr>\n",
              "    <tr>\n",
              "      <th>3118</th>\n",
              "      <td>3118.png</td>\n",
              "      <td>Zithrin</td>\n",
              "      <td>Azithromycin Dihydrate</td>\n",
              "    </tr>\n",
              "    <tr>\n",
              "      <th>3119</th>\n",
              "      <td>3119.png</td>\n",
              "      <td>Zithrin</td>\n",
              "      <td>Azithromycin Dihydrate</td>\n",
              "    </tr>\n",
              "  </tbody>\n",
              "</table>\n",
              "<p>3120 rows × 3 columns</p>\n",
              "</div>"
            ],
            "text/plain": [
              "         IMAGE MEDICINE_NAME            GENERIC_NAME\n",
              "0        0.png         Aceta             Paracetamol\n",
              "1        1.png         Aceta             Paracetamol\n",
              "2        2.png         Aceta             Paracetamol\n",
              "3        3.png         Aceta             Paracetamol\n",
              "4        4.png         Aceta             Paracetamol\n",
              "...        ...           ...                     ...\n",
              "3115  3115.png       Zithrin  Azithromycin Dihydrate\n",
              "3116  3116.png       Zithrin  Azithromycin Dihydrate\n",
              "3117  3117.png       Zithrin  Azithromycin Dihydrate\n",
              "3118  3118.png       Zithrin  Azithromycin Dihydrate\n",
              "3119  3119.png       Zithrin  Azithromycin Dihydrate\n",
              "\n",
              "[3120 rows x 3 columns]"
            ]
          },
          "execution_count": 3,
          "metadata": {},
          "output_type": "execute_result"
        }
      ],
      "source": [
        "df_train"
      ]
    },
    {
      "cell_type": "code",
      "execution_count": null,
      "id": "8efc3965",
      "metadata": {
        "execution": {
          "iopub.execute_input": "2024-12-05T06:24:24.062900Z",
          "iopub.status.busy": "2024-12-05T06:24:24.062476Z",
          "iopub.status.idle": "2024-12-05T06:24:38.124130Z",
          "shell.execute_reply": "2024-12-05T06:24:38.123007Z"
        },
        "papermill": {
          "duration": 14.071666,
          "end_time": "2024-12-05T06:24:38.126602",
          "exception": false,
          "start_time": "2024-12-05T06:24:24.054936",
          "status": "completed"
        },
        "tags": [],
        "id": "8efc3965",
        "outputId": "d7a90430-e9f2-4982-fe6e-3558a699775f"
      },
      "outputs": [
        {
          "name": "stdout",
          "output_type": "stream",
          "text": [
            "(3120, 3)\n",
            "(780, 3)\n",
            "(780, 3)\n"
          ]
        }
      ],
      "source": [
        "from tensorflow.keras.preprocessing.image import img_to_array, load_img\n",
        "train_path = \"/kaggle/input/doctors-handwritten-prescription-bd-dataset/Doctor’s Handwritten Prescription BD dataset/Training/training_words\"\n",
        "test_path=\"/kaggle/input/doctors-handwritten-prescription-bd-dataset/Doctor’s Handwritten Prescription BD dataset/Testing/testing_words\"\n",
        "val_path =\"/kaggle/input/doctors-handwritten-prescription-bd-dataset/Doctor’s Handwritten Prescription BD dataset/Validation/validation_words\"\n",
        "train_image=[]\n",
        "test_image=[]\n",
        "val_image=[]\n",
        "print(df_train.shape)\n",
        "print(df_test.shape)\n",
        "print(df_val.shape)"
      ]
    },
    {
      "cell_type": "code",
      "execution_count": null,
      "id": "c3e60d16",
      "metadata": {
        "execution": {
          "iopub.execute_input": "2024-12-05T06:24:38.140380Z",
          "iopub.status.busy": "2024-12-05T06:24:38.139763Z",
          "iopub.status.idle": "2024-12-05T06:25:25.646979Z",
          "shell.execute_reply": "2024-12-05T06:25:25.645896Z"
        },
        "papermill": {
          "duration": 47.516955,
          "end_time": "2024-12-05T06:25:25.649539",
          "exception": false,
          "start_time": "2024-12-05T06:24:38.132584",
          "status": "completed"
        },
        "tags": [],
        "id": "c3e60d16"
      },
      "outputs": [],
      "source": [
        "for element in df_train['IMAGE']:\n",
        "    abs_path = os.path.join(train_path, element)\n",
        "    image = load_img(abs_path, target_size=(64, 64)) ## this is the photo size\n",
        "    image_array = np.array(image, dtype='float32')/255.0 # notmalize between 0 and 1\n",
        "    train_image.append(image_array)\n",
        "\n",
        "\n",
        "for element in df_test['IMAGE']:\n",
        "    abs_path = os.path.join(test_path, element)\n",
        "    image = load_img(abs_path, target_size=(64, 64))\n",
        "    image_array = np.array(image, dtype='float32')/255.0\n",
        "    test_image.append(image_array)\n",
        "\n",
        "for element in df_val['IMAGE']:\n",
        "    abs_path = os.path.join(val_path, element)\n",
        "    image = load_img(abs_path, target_size=(64, 64))\n",
        "    image_array = np.array(image, dtype='float32')\n",
        "    val_image.append(image_array)"
      ]
    },
    {
      "cell_type": "code",
      "execution_count": null,
      "id": "379375ed",
      "metadata": {
        "execution": {
          "iopub.execute_input": "2024-12-05T06:25:25.664359Z",
          "iopub.status.busy": "2024-12-05T06:25:25.663927Z",
          "iopub.status.idle": "2024-12-05T06:25:25.669787Z",
          "shell.execute_reply": "2024-12-05T06:25:25.668698Z"
        },
        "papermill": {
          "duration": 0.015466,
          "end_time": "2024-12-05T06:25:25.672140",
          "exception": false,
          "start_time": "2024-12-05T06:25:25.656674",
          "status": "completed"
        },
        "tags": [],
        "id": "379375ed",
        "outputId": "84949287-6b1f-4aa9-b3c9-02be258f5b60"
      },
      "outputs": [
        {
          "name": "stdout",
          "output_type": "stream",
          "text": [
            "3120\n",
            "780\n",
            "780\n"
          ]
        }
      ],
      "source": [
        "print(len(train_image))\n",
        "print(len(test_image))\n",
        "print(len(val_image))"
      ]
    },
    {
      "cell_type": "code",
      "execution_count": null,
      "id": "646e46b3",
      "metadata": {
        "execution": {
          "iopub.execute_input": "2024-12-05T06:25:25.685629Z",
          "iopub.status.busy": "2024-12-05T06:25:25.685198Z",
          "iopub.status.idle": "2024-12-05T06:25:25.793736Z",
          "shell.execute_reply": "2024-12-05T06:25:25.792430Z"
        },
        "papermill": {
          "duration": 0.118307,
          "end_time": "2024-12-05T06:25:25.796411",
          "exception": false,
          "start_time": "2024-12-05T06:25:25.678104",
          "status": "completed"
        },
        "tags": [],
        "id": "646e46b3"
      },
      "outputs": [],
      "source": [
        "# Convert lists to numpy arrays with shape (num_samples, height, width, channels)\n",
        "train = np.array(train_image, dtype='float32')\n",
        "test = np.array(test_image, dtype='float32')\n",
        "val = np.array(val_image, dtype='float32')"
      ]
    },
    {
      "cell_type": "code",
      "execution_count": null,
      "id": "b28a7513",
      "metadata": {
        "execution": {
          "iopub.execute_input": "2024-12-05T06:25:25.809852Z",
          "iopub.status.busy": "2024-12-05T06:25:25.809394Z",
          "iopub.status.idle": "2024-12-05T06:25:25.816659Z",
          "shell.execute_reply": "2024-12-05T06:25:25.815388Z"
        },
        "papermill": {
          "duration": 0.016353,
          "end_time": "2024-12-05T06:25:25.818633",
          "exception": false,
          "start_time": "2024-12-05T06:25:25.802280",
          "status": "completed"
        },
        "tags": [],
        "id": "b28a7513",
        "outputId": "d30b33f5-cfdb-4069-a8b8-6e6da58e80c1"
      },
      "outputs": [
        {
          "data": {
            "text/plain": [
              "(64, 64, 3)"
            ]
          },
          "execution_count": 8,
          "metadata": {},
          "output_type": "execute_result"
        }
      ],
      "source": [
        "train_image[0].shape"
      ]
    },
    {
      "cell_type": "code",
      "execution_count": null,
      "id": "0a8fc543",
      "metadata": {
        "execution": {
          "iopub.execute_input": "2024-12-05T06:25:25.832377Z",
          "iopub.status.busy": "2024-12-05T06:25:25.831955Z",
          "iopub.status.idle": "2024-12-05T06:25:25.837954Z",
          "shell.execute_reply": "2024-12-05T06:25:25.836798Z"
        },
        "papermill": {
          "duration": 0.015317,
          "end_time": "2024-12-05T06:25:25.839989",
          "exception": false,
          "start_time": "2024-12-05T06:25:25.824672",
          "status": "completed"
        },
        "tags": [],
        "id": "0a8fc543",
        "outputId": "d299559a-df29-474d-c887-c64a14ae579f"
      },
      "outputs": [
        {
          "name": "stdout",
          "output_type": "stream",
          "text": [
            "Training data shape: (3120, 64, 64, 3)\n",
            "Test data shape: (780, 64, 64, 3)\n",
            "Validation data shape: (780, 64, 64, 3)\n"
          ]
        }
      ],
      "source": [
        "# Check shapes of the image arrays\n",
        "print(\"Training data shape:\", train.shape)  # Should be (num_samples, 100, 100, 3)\n",
        "print(\"Test data shape:\", test.shape)\n",
        "print(\"Validation data shape:\", val.shape)"
      ]
    },
    {
      "cell_type": "code",
      "execution_count": null,
      "id": "1a1d10a3",
      "metadata": {
        "execution": {
          "iopub.execute_input": "2024-12-05T06:25:25.853863Z",
          "iopub.status.busy": "2024-12-05T06:25:25.853413Z",
          "iopub.status.idle": "2024-12-05T06:25:25.875578Z",
          "shell.execute_reply": "2024-12-05T06:25:25.874407Z"
        },
        "papermill": {
          "duration": 0.03167,
          "end_time": "2024-12-05T06:25:25.877813",
          "exception": false,
          "start_time": "2024-12-05T06:25:25.846143",
          "status": "completed"
        },
        "tags": [],
        "id": "1a1d10a3",
        "outputId": "e3873a5d-4996-4736-daf1-972865e7893b"
      },
      "outputs": [
        {
          "data": {
            "text/plain": [
              "0       0\n",
              "1       0\n",
              "2       0\n",
              "3       0\n",
              "4       0\n",
              "       ..\n",
              "775    77\n",
              "776    77\n",
              "777    77\n",
              "778    77\n",
              "779    77\n",
              "Name: MEDICINE_NAME, Length: 780, dtype: int64"
            ]
          },
          "execution_count": 10,
          "metadata": {},
          "output_type": "execute_result"
        }
      ],
      "source": [
        "arr=df_train['MEDICINE_NAME'].unique()\n",
        "map1={}\n",
        "\n",
        "for pos,key in enumerate(arr):\n",
        "    map1[key]=pos\n",
        "\n",
        "df_train['MEDICINE_NAME']=df_train['MEDICINE_NAME'].map(map1)\n",
        "df_test['MEDICINE_NAME']=df_test['MEDICINE_NAME'].map(map1)\n",
        "df_val['MEDICINE_NAME']=df_val['MEDICINE_NAME'].map(map1)\n",
        "\n",
        "df_test['MEDICINE_NAME']"
      ]
    },
    {
      "cell_type": "code",
      "execution_count": null,
      "id": "f304e9a5",
      "metadata": {
        "execution": {
          "iopub.execute_input": "2024-12-05T06:25:25.891577Z",
          "iopub.status.busy": "2024-12-05T06:25:25.891154Z",
          "iopub.status.idle": "2024-12-05T06:25:25.901884Z",
          "shell.execute_reply": "2024-12-05T06:25:25.900567Z"
        },
        "papermill": {
          "duration": 0.020282,
          "end_time": "2024-12-05T06:25:25.904221",
          "exception": false,
          "start_time": "2024-12-05T06:25:25.883939",
          "status": "completed"
        },
        "tags": [],
        "id": "f304e9a5",
        "outputId": "41ac84d4-aeb3-4727-8c40-2b94b32ac597"
      },
      "outputs": [
        {
          "data": {
            "text/html": [
              "<div>\n",
              "<style scoped>\n",
              "    .dataframe tbody tr th:only-of-type {\n",
              "        vertical-align: middle;\n",
              "    }\n",
              "\n",
              "    .dataframe tbody tr th {\n",
              "        vertical-align: top;\n",
              "    }\n",
              "\n",
              "    .dataframe thead th {\n",
              "        text-align: right;\n",
              "    }\n",
              "</style>\n",
              "<table border=\"1\" class=\"dataframe\">\n",
              "  <thead>\n",
              "    <tr style=\"text-align: right;\">\n",
              "      <th></th>\n",
              "      <th>IMAGE</th>\n",
              "      <th>MEDICINE_NAME</th>\n",
              "      <th>GENERIC_NAME</th>\n",
              "    </tr>\n",
              "  </thead>\n",
              "  <tbody>\n",
              "    <tr>\n",
              "      <th>0</th>\n",
              "      <td>0.png</td>\n",
              "      <td>0</td>\n",
              "      <td>Paracetamol</td>\n",
              "    </tr>\n",
              "    <tr>\n",
              "      <th>1</th>\n",
              "      <td>1.png</td>\n",
              "      <td>0</td>\n",
              "      <td>Paracetamol</td>\n",
              "    </tr>\n",
              "    <tr>\n",
              "      <th>2</th>\n",
              "      <td>2.png</td>\n",
              "      <td>0</td>\n",
              "      <td>Paracetamol</td>\n",
              "    </tr>\n",
              "    <tr>\n",
              "      <th>3</th>\n",
              "      <td>3.png</td>\n",
              "      <td>0</td>\n",
              "      <td>Paracetamol</td>\n",
              "    </tr>\n",
              "    <tr>\n",
              "      <th>4</th>\n",
              "      <td>4.png</td>\n",
              "      <td>0</td>\n",
              "      <td>Paracetamol</td>\n",
              "    </tr>\n",
              "  </tbody>\n",
              "</table>\n",
              "</div>"
            ],
            "text/plain": [
              "   IMAGE  MEDICINE_NAME GENERIC_NAME\n",
              "0  0.png              0  Paracetamol\n",
              "1  1.png              0  Paracetamol\n",
              "2  2.png              0  Paracetamol\n",
              "3  3.png              0  Paracetamol\n",
              "4  4.png              0  Paracetamol"
            ]
          },
          "execution_count": 11,
          "metadata": {},
          "output_type": "execute_result"
        }
      ],
      "source": [
        "df_train.head()"
      ]
    },
    {
      "cell_type": "code",
      "execution_count": null,
      "id": "f11e0b45",
      "metadata": {
        "execution": {
          "iopub.execute_input": "2024-12-05T06:25:25.918451Z",
          "iopub.status.busy": "2024-12-05T06:25:25.918064Z",
          "iopub.status.idle": "2024-12-05T06:25:25.925426Z",
          "shell.execute_reply": "2024-12-05T06:25:25.924569Z"
        },
        "papermill": {
          "duration": 0.016989,
          "end_time": "2024-12-05T06:25:25.927435",
          "exception": false,
          "start_time": "2024-12-05T06:25:25.910446",
          "status": "completed"
        },
        "tags": [],
        "id": "f11e0b45"
      },
      "outputs": [],
      "source": [
        "unique_medicine = df_train[\"MEDICINE_NAME\"].unique()\n",
        "\n",
        "medicine_pos = {}\n",
        "## assigne medicine posistion with name\n",
        "for pos, name in enumerate(unique_medicine):\n",
        "    medicine_pos[name] = pos"
      ]
    },
    {
      "cell_type": "code",
      "execution_count": null,
      "id": "fe389624",
      "metadata": {
        "execution": {
          "iopub.execute_input": "2024-12-05T06:25:25.941544Z",
          "iopub.status.busy": "2024-12-05T06:25:25.941110Z",
          "iopub.status.idle": "2024-12-05T06:25:25.950026Z",
          "shell.execute_reply": "2024-12-05T06:25:25.949039Z"
        },
        "papermill": {
          "duration": 0.01838,
          "end_time": "2024-12-05T06:25:25.952144",
          "exception": false,
          "start_time": "2024-12-05T06:25:25.933764",
          "status": "completed"
        },
        "tags": [],
        "id": "fe389624"
      },
      "outputs": [],
      "source": [
        "df_train['MEDICINE_NAME'] = df_train['MEDICINE_NAME'].map(medicine_pos)\n",
        "df_test['MEDICINE_NAME'] = df_test['MEDICINE_NAME'].map(medicine_pos)\n",
        "df_val['MEDICINE_NAME'] = df_val['MEDICINE_NAME'].map(medicine_pos)"
      ]
    },
    {
      "cell_type": "code",
      "execution_count": null,
      "id": "6cc75ef0",
      "metadata": {
        "execution": {
          "iopub.execute_input": "2024-12-05T06:25:25.966444Z",
          "iopub.status.busy": "2024-12-05T06:25:25.966037Z",
          "iopub.status.idle": "2024-12-05T06:25:25.976098Z",
          "shell.execute_reply": "2024-12-05T06:25:25.974946Z"
        },
        "papermill": {
          "duration": 0.020323,
          "end_time": "2024-12-05T06:25:25.978647",
          "exception": false,
          "start_time": "2024-12-05T06:25:25.958324",
          "status": "completed"
        },
        "tags": [],
        "id": "6cc75ef0",
        "outputId": "4ea58803-ba62-4aa8-b643-0a999a445791"
      },
      "outputs": [
        {
          "data": {
            "text/html": [
              "<div>\n",
              "<style scoped>\n",
              "    .dataframe tbody tr th:only-of-type {\n",
              "        vertical-align: middle;\n",
              "    }\n",
              "\n",
              "    .dataframe tbody tr th {\n",
              "        vertical-align: top;\n",
              "    }\n",
              "\n",
              "    .dataframe thead th {\n",
              "        text-align: right;\n",
              "    }\n",
              "</style>\n",
              "<table border=\"1\" class=\"dataframe\">\n",
              "  <thead>\n",
              "    <tr style=\"text-align: right;\">\n",
              "      <th></th>\n",
              "      <th>IMAGE</th>\n",
              "      <th>MEDICINE_NAME</th>\n",
              "      <th>GENERIC_NAME</th>\n",
              "    </tr>\n",
              "  </thead>\n",
              "  <tbody>\n",
              "    <tr>\n",
              "      <th>0</th>\n",
              "      <td>0.png</td>\n",
              "      <td>0</td>\n",
              "      <td>Paracetamol</td>\n",
              "    </tr>\n",
              "    <tr>\n",
              "      <th>1</th>\n",
              "      <td>1.png</td>\n",
              "      <td>0</td>\n",
              "      <td>Paracetamol</td>\n",
              "    </tr>\n",
              "    <tr>\n",
              "      <th>2</th>\n",
              "      <td>2.png</td>\n",
              "      <td>0</td>\n",
              "      <td>Paracetamol</td>\n",
              "    </tr>\n",
              "    <tr>\n",
              "      <th>3</th>\n",
              "      <td>3.png</td>\n",
              "      <td>0</td>\n",
              "      <td>Paracetamol</td>\n",
              "    </tr>\n",
              "    <tr>\n",
              "      <th>4</th>\n",
              "      <td>4.png</td>\n",
              "      <td>0</td>\n",
              "      <td>Paracetamol</td>\n",
              "    </tr>\n",
              "  </tbody>\n",
              "</table>\n",
              "</div>"
            ],
            "text/plain": [
              "   IMAGE  MEDICINE_NAME GENERIC_NAME\n",
              "0  0.png              0  Paracetamol\n",
              "1  1.png              0  Paracetamol\n",
              "2  2.png              0  Paracetamol\n",
              "3  3.png              0  Paracetamol\n",
              "4  4.png              0  Paracetamol"
            ]
          },
          "execution_count": 14,
          "metadata": {},
          "output_type": "execute_result"
        }
      ],
      "source": [
        "df_train.head()"
      ]
    },
    {
      "cell_type": "code",
      "execution_count": null,
      "id": "c21a5670",
      "metadata": {
        "papermill": {
          "duration": 0.006458,
          "end_time": "2024-12-05T06:25:25.991623",
          "exception": false,
          "start_time": "2024-12-05T06:25:25.985165",
          "status": "completed"
        },
        "tags": [],
        "id": "c21a5670"
      },
      "outputs": [],
      "source": []
    },
    {
      "cell_type": "code",
      "execution_count": null,
      "id": "0d2bf92d",
      "metadata": {
        "execution": {
          "iopub.execute_input": "2024-12-05T06:25:26.007337Z",
          "iopub.status.busy": "2024-12-05T06:25:26.006458Z",
          "iopub.status.idle": "2024-12-05T06:25:26.013082Z",
          "shell.execute_reply": "2024-12-05T06:25:26.011803Z"
        },
        "papermill": {
          "duration": 0.017114,
          "end_time": "2024-12-05T06:25:26.015459",
          "exception": false,
          "start_time": "2024-12-05T06:25:25.998345",
          "status": "completed"
        },
        "tags": [],
        "id": "0d2bf92d"
      },
      "outputs": [],
      "source": [
        "# # Add the images along with the dataset\n",
        "\n",
        "# from tensorflow.keras.preprocessing.image import img_to_array, load_img\n",
        "# train_path = \"/kaggle/input/doctors-handwritten-prescription-bd-dataset/Doctor’s Handwritten Prescription BD dataset/Training/training_words\"\n",
        "# test_path=\"/kaggle/input/doctors-handwritten-prescription-bd-dataset/Doctor’s Handwritten Prescription BD dataset/Testing/testing_words\"\n",
        "# val_path =\"/kaggle/input/doctors-handwritten-prescription-bd-dataset/Doctor’s Handwritten Prescription BD dataset/Validation/validation_words\"\n",
        "# train_image=[]\n",
        "# test_image=[]\n",
        "# val_image=[]\n",
        "# print(df_train.shape)\n",
        "# print(df_test.shape)\n",
        "# print(df_val.shape)\n",
        "\n",
        "\n",
        "# for element in df_train['IMAGE']:\n",
        "#     abs_path = os.path.join(train_path, element)\n",
        "#     image = load_img(abs_path, target_size=(64, 64))  # Resize to 100x100\n",
        "#     image_array = np.array(image, dtype='float32') / 255.0  # Normalize to [0, 1]\n",
        "#     train_image.append(image_array)\n",
        "\n",
        "# # Load and process testing images\n",
        "# for element in df_test['IMAGE']:\n",
        "#     abs_path = os.path.join(test_path, element)\n",
        "#     image = load_img(abs_path, target_size=(64, 64))\n",
        "#     image_array = np.array(image, dtype='float32') / 255.0\n",
        "#     test_image.append(image_array)\n",
        "\n",
        "# # Load and process validation images\n",
        "# for element in df_val['IMAGE']:\n",
        "#     abs_path = os.path.join(val_path, element)\n",
        "#     image = load_img(abs_path, target_size=(64, 64))\n",
        "#     image_array = np.array(image, dtype='float32') / 255.0\n",
        "#     val_image.append(image_array)\n",
        "\n",
        "# # Convert lists to numpy arrays with shape (num_samples, height, width, channels)\n",
        "# train = np.array(train_image, dtype='float32')\n",
        "# test = np.array(test_image, dtype='float32')\n",
        "# val = np.array(val_image, dtype=\"float32\")\n",
        "\n",
        "# # Check shapes of the image arrays\n",
        "# print(\"Training data shape:\", train.shape)  # Should be (num_samples, 100, 100, 3)\n",
        "# print(\"Test data shape:\", test.shape)\n",
        "# print(\"Validation data shape:\", val.shape)\n",
        "\n",
        "# # Assign image data to the DataFrame"
      ]
    },
    {
      "cell_type": "code",
      "execution_count": null,
      "id": "f3a9e958",
      "metadata": {
        "execution": {
          "iopub.execute_input": "2024-12-05T06:25:26.030683Z",
          "iopub.status.busy": "2024-12-05T06:25:26.030256Z",
          "iopub.status.idle": "2024-12-05T06:25:26.040994Z",
          "shell.execute_reply": "2024-12-05T06:25:26.039882Z"
        },
        "papermill": {
          "duration": 0.021328,
          "end_time": "2024-12-05T06:25:26.043308",
          "exception": false,
          "start_time": "2024-12-05T06:25:26.021980",
          "status": "completed"
        },
        "tags": [],
        "id": "f3a9e958",
        "outputId": "6614bc8d-d349-450e-a86d-c3aba6ddf9c8"
      },
      "outputs": [
        {
          "data": {
            "text/html": [
              "<div>\n",
              "<style scoped>\n",
              "    .dataframe tbody tr th:only-of-type {\n",
              "        vertical-align: middle;\n",
              "    }\n",
              "\n",
              "    .dataframe tbody tr th {\n",
              "        vertical-align: top;\n",
              "    }\n",
              "\n",
              "    .dataframe thead th {\n",
              "        text-align: right;\n",
              "    }\n",
              "</style>\n",
              "<table border=\"1\" class=\"dataframe\">\n",
              "  <thead>\n",
              "    <tr style=\"text-align: right;\">\n",
              "      <th></th>\n",
              "      <th>IMAGE</th>\n",
              "      <th>MEDICINE_NAME</th>\n",
              "      <th>GENERIC_NAME</th>\n",
              "    </tr>\n",
              "  </thead>\n",
              "  <tbody>\n",
              "    <tr>\n",
              "      <th>0</th>\n",
              "      <td>0.png</td>\n",
              "      <td>0</td>\n",
              "      <td>Paracetamol</td>\n",
              "    </tr>\n",
              "    <tr>\n",
              "      <th>1</th>\n",
              "      <td>1.png</td>\n",
              "      <td>0</td>\n",
              "      <td>Paracetamol</td>\n",
              "    </tr>\n",
              "    <tr>\n",
              "      <th>2</th>\n",
              "      <td>2.png</td>\n",
              "      <td>0</td>\n",
              "      <td>Paracetamol</td>\n",
              "    </tr>\n",
              "    <tr>\n",
              "      <th>3</th>\n",
              "      <td>3.png</td>\n",
              "      <td>0</td>\n",
              "      <td>Paracetamol</td>\n",
              "    </tr>\n",
              "    <tr>\n",
              "      <th>4</th>\n",
              "      <td>4.png</td>\n",
              "      <td>0</td>\n",
              "      <td>Paracetamol</td>\n",
              "    </tr>\n",
              "  </tbody>\n",
              "</table>\n",
              "</div>"
            ],
            "text/plain": [
              "   IMAGE  MEDICINE_NAME GENERIC_NAME\n",
              "0  0.png              0  Paracetamol\n",
              "1  1.png              0  Paracetamol\n",
              "2  2.png              0  Paracetamol\n",
              "3  3.png              0  Paracetamol\n",
              "4  4.png              0  Paracetamol"
            ]
          },
          "execution_count": 16,
          "metadata": {},
          "output_type": "execute_result"
        }
      ],
      "source": [
        "df_train.head()"
      ]
    },
    {
      "cell_type": "code",
      "execution_count": null,
      "id": "fbb3f2fb",
      "metadata": {
        "execution": {
          "iopub.execute_input": "2024-12-05T06:25:26.058522Z",
          "iopub.status.busy": "2024-12-05T06:25:26.058120Z",
          "iopub.status.idle": "2024-12-05T06:25:26.071201Z",
          "shell.execute_reply": "2024-12-05T06:25:26.070062Z"
        },
        "papermill": {
          "duration": 0.02324,
          "end_time": "2024-12-05T06:25:26.073304",
          "exception": false,
          "start_time": "2024-12-05T06:25:26.050064",
          "status": "completed"
        },
        "tags": [],
        "id": "fbb3f2fb",
        "outputId": "85c53a8c-4716-43ff-fdbd-3825e4f2908f"
      },
      "outputs": [
        {
          "data": {
            "text/plain": [
              "0       0\n",
              "1       0\n",
              "2       0\n",
              "3       0\n",
              "4       0\n",
              "       ..\n",
              "775    77\n",
              "776    77\n",
              "777    77\n",
              "778    77\n",
              "779    77\n",
              "Name: MEDICINE_NAME, Length: 780, dtype: int64"
            ]
          },
          "execution_count": 17,
          "metadata": {},
          "output_type": "execute_result"
        }
      ],
      "source": [
        "arr=df_train['MEDICINE_NAME'].unique()\n",
        "map1={}\n",
        "\n",
        "for pos,key in enumerate(arr):\n",
        "    map1[key]=pos\n",
        "\n",
        "df_train['MEDICINE_NAME']=df_train['MEDICINE_NAME'].map(map1)\n",
        "df_test['MEDICINE_NAME']=df_test['MEDICINE_NAME'].map(map1)\n",
        "df_val['MEDICINE_NAME']=df_val['MEDICINE_NAME'].map(map1)\n",
        "\n",
        "df_test['MEDICINE_NAME']"
      ]
    },
    {
      "cell_type": "code",
      "execution_count": null,
      "id": "3b2c7921",
      "metadata": {
        "execution": {
          "iopub.execute_input": "2024-12-05T06:25:26.088407Z",
          "iopub.status.busy": "2024-12-05T06:25:26.088018Z",
          "iopub.status.idle": "2024-12-05T06:25:26.275436Z",
          "shell.execute_reply": "2024-12-05T06:25:26.274353Z"
        },
        "papermill": {
          "duration": 0.197574,
          "end_time": "2024-12-05T06:25:26.277718",
          "exception": false,
          "start_time": "2024-12-05T06:25:26.080144",
          "status": "completed"
        },
        "tags": [],
        "id": "3b2c7921",
        "outputId": "46719018-ed70-4776-c1a1-33da512e0226"
      },
      "outputs": [
        {
          "name": "stderr",
          "output_type": "stream",
          "text": [
            "/opt/conda/lib/python3.10/site-packages/keras/src/layers/convolutional/base_conv.py:107: UserWarning: Do not pass an `input_shape`/`input_dim` argument to a layer. When using Sequential models, prefer using an `Input(shape)` object as the first layer in the model instead.\n",
            "  super().__init__(activity_regularizer=activity_regularizer, **kwargs)\n"
          ]
        },
        {
          "data": {
            "text/html": [
              "<pre style=\"white-space:pre;overflow-x:auto;line-height:normal;font-family:Menlo,'DejaVu Sans Mono',consolas,'Courier New',monospace\"><span style=\"font-weight: bold\">Model: \"sequential\"</span>\n",
              "</pre>\n"
            ],
            "text/plain": [
              "\u001b[1mModel: \"sequential\"\u001b[0m\n"
            ]
          },
          "metadata": {},
          "output_type": "display_data"
        },
        {
          "data": {
            "text/html": [
              "<pre style=\"white-space:pre;overflow-x:auto;line-height:normal;font-family:Menlo,'DejaVu Sans Mono',consolas,'Courier New',monospace\">┏━━━━━━━━━━━━━━━━━━━━━━━━━━━━━━━━━┳━━━━━━━━━━━━━━━━━━━━━━━━┳━━━━━━━━━━━━━━━┓\n",
              "┃<span style=\"font-weight: bold\"> Layer (type)                    </span>┃<span style=\"font-weight: bold\"> Output Shape           </span>┃<span style=\"font-weight: bold\">       Param # </span>┃\n",
              "┡━━━━━━━━━━━━━━━━━━━━━━━━━━━━━━━━━╇━━━━━━━━━━━━━━━━━━━━━━━━╇━━━━━━━━━━━━━━━┩\n",
              "│ conv2d (<span style=\"color: #0087ff; text-decoration-color: #0087ff\">Conv2D</span>)                 │ (<span style=\"color: #00d7ff; text-decoration-color: #00d7ff\">None</span>, <span style=\"color: #00af00; text-decoration-color: #00af00\">62</span>, <span style=\"color: #00af00; text-decoration-color: #00af00\">62</span>, <span style=\"color: #00af00; text-decoration-color: #00af00\">32</span>)     │           <span style=\"color: #00af00; text-decoration-color: #00af00\">896</span> │\n",
              "├─────────────────────────────────┼────────────────────────┼───────────────┤\n",
              "│ max_pooling2d (<span style=\"color: #0087ff; text-decoration-color: #0087ff\">MaxPooling2D</span>)    │ (<span style=\"color: #00d7ff; text-decoration-color: #00d7ff\">None</span>, <span style=\"color: #00af00; text-decoration-color: #00af00\">31</span>, <span style=\"color: #00af00; text-decoration-color: #00af00\">31</span>, <span style=\"color: #00af00; text-decoration-color: #00af00\">32</span>)     │             <span style=\"color: #00af00; text-decoration-color: #00af00\">0</span> │\n",
              "├─────────────────────────────────┼────────────────────────┼───────────────┤\n",
              "│ conv2d_1 (<span style=\"color: #0087ff; text-decoration-color: #0087ff\">Conv2D</span>)               │ (<span style=\"color: #00d7ff; text-decoration-color: #00d7ff\">None</span>, <span style=\"color: #00af00; text-decoration-color: #00af00\">29</span>, <span style=\"color: #00af00; text-decoration-color: #00af00\">29</span>, <span style=\"color: #00af00; text-decoration-color: #00af00\">64</span>)     │        <span style=\"color: #00af00; text-decoration-color: #00af00\">18,496</span> │\n",
              "├─────────────────────────────────┼────────────────────────┼───────────────┤\n",
              "│ max_pooling2d_1 (<span style=\"color: #0087ff; text-decoration-color: #0087ff\">MaxPooling2D</span>)  │ (<span style=\"color: #00d7ff; text-decoration-color: #00d7ff\">None</span>, <span style=\"color: #00af00; text-decoration-color: #00af00\">14</span>, <span style=\"color: #00af00; text-decoration-color: #00af00\">14</span>, <span style=\"color: #00af00; text-decoration-color: #00af00\">64</span>)     │             <span style=\"color: #00af00; text-decoration-color: #00af00\">0</span> │\n",
              "├─────────────────────────────────┼────────────────────────┼───────────────┤\n",
              "│ conv2d_2 (<span style=\"color: #0087ff; text-decoration-color: #0087ff\">Conv2D</span>)               │ (<span style=\"color: #00d7ff; text-decoration-color: #00d7ff\">None</span>, <span style=\"color: #00af00; text-decoration-color: #00af00\">12</span>, <span style=\"color: #00af00; text-decoration-color: #00af00\">12</span>, <span style=\"color: #00af00; text-decoration-color: #00af00\">128</span>)    │        <span style=\"color: #00af00; text-decoration-color: #00af00\">73,856</span> │\n",
              "├─────────────────────────────────┼────────────────────────┼───────────────┤\n",
              "│ max_pooling2d_2 (<span style=\"color: #0087ff; text-decoration-color: #0087ff\">MaxPooling2D</span>)  │ (<span style=\"color: #00d7ff; text-decoration-color: #00d7ff\">None</span>, <span style=\"color: #00af00; text-decoration-color: #00af00\">6</span>, <span style=\"color: #00af00; text-decoration-color: #00af00\">6</span>, <span style=\"color: #00af00; text-decoration-color: #00af00\">128</span>)      │             <span style=\"color: #00af00; text-decoration-color: #00af00\">0</span> │\n",
              "├─────────────────────────────────┼────────────────────────┼───────────────┤\n",
              "│ flatten (<span style=\"color: #0087ff; text-decoration-color: #0087ff\">Flatten</span>)               │ (<span style=\"color: #00d7ff; text-decoration-color: #00d7ff\">None</span>, <span style=\"color: #00af00; text-decoration-color: #00af00\">4608</span>)           │             <span style=\"color: #00af00; text-decoration-color: #00af00\">0</span> │\n",
              "├─────────────────────────────────┼────────────────────────┼───────────────┤\n",
              "│ dense (<span style=\"color: #0087ff; text-decoration-color: #0087ff\">Dense</span>)                   │ (<span style=\"color: #00d7ff; text-decoration-color: #00d7ff\">None</span>, <span style=\"color: #00af00; text-decoration-color: #00af00\">512</span>)            │     <span style=\"color: #00af00; text-decoration-color: #00af00\">2,359,808</span> │\n",
              "├─────────────────────────────────┼────────────────────────┼───────────────┤\n",
              "│ dropout (<span style=\"color: #0087ff; text-decoration-color: #0087ff\">Dropout</span>)               │ (<span style=\"color: #00d7ff; text-decoration-color: #00d7ff\">None</span>, <span style=\"color: #00af00; text-decoration-color: #00af00\">512</span>)            │             <span style=\"color: #00af00; text-decoration-color: #00af00\">0</span> │\n",
              "├─────────────────────────────────┼────────────────────────┼───────────────┤\n",
              "│ dense_1 (<span style=\"color: #0087ff; text-decoration-color: #0087ff\">Dense</span>)                 │ (<span style=\"color: #00d7ff; text-decoration-color: #00d7ff\">None</span>, <span style=\"color: #00af00; text-decoration-color: #00af00\">78</span>)             │        <span style=\"color: #00af00; text-decoration-color: #00af00\">40,014</span> │\n",
              "└─────────────────────────────────┴────────────────────────┴───────────────┘\n",
              "</pre>\n"
            ],
            "text/plain": [
              "┏━━━━━━━━━━━━━━━━━━━━━━━━━━━━━━━━━┳━━━━━━━━━━━━━━━━━━━━━━━━┳━━━━━━━━━━━━━━━┓\n",
              "┃\u001b[1m \u001b[0m\u001b[1mLayer (type)                   \u001b[0m\u001b[1m \u001b[0m┃\u001b[1m \u001b[0m\u001b[1mOutput Shape          \u001b[0m\u001b[1m \u001b[0m┃\u001b[1m \u001b[0m\u001b[1m      Param #\u001b[0m\u001b[1m \u001b[0m┃\n",
              "┡━━━━━━━━━━━━━━━━━━━━━━━━━━━━━━━━━╇━━━━━━━━━━━━━━━━━━━━━━━━╇━━━━━━━━━━━━━━━┩\n",
              "│ conv2d (\u001b[38;5;33mConv2D\u001b[0m)                 │ (\u001b[38;5;45mNone\u001b[0m, \u001b[38;5;34m62\u001b[0m, \u001b[38;5;34m62\u001b[0m, \u001b[38;5;34m32\u001b[0m)     │           \u001b[38;5;34m896\u001b[0m │\n",
              "├─────────────────────────────────┼────────────────────────┼───────────────┤\n",
              "│ max_pooling2d (\u001b[38;5;33mMaxPooling2D\u001b[0m)    │ (\u001b[38;5;45mNone\u001b[0m, \u001b[38;5;34m31\u001b[0m, \u001b[38;5;34m31\u001b[0m, \u001b[38;5;34m32\u001b[0m)     │             \u001b[38;5;34m0\u001b[0m │\n",
              "├─────────────────────────────────┼────────────────────────┼───────────────┤\n",
              "│ conv2d_1 (\u001b[38;5;33mConv2D\u001b[0m)               │ (\u001b[38;5;45mNone\u001b[0m, \u001b[38;5;34m29\u001b[0m, \u001b[38;5;34m29\u001b[0m, \u001b[38;5;34m64\u001b[0m)     │        \u001b[38;5;34m18,496\u001b[0m │\n",
              "├─────────────────────────────────┼────────────────────────┼───────────────┤\n",
              "│ max_pooling2d_1 (\u001b[38;5;33mMaxPooling2D\u001b[0m)  │ (\u001b[38;5;45mNone\u001b[0m, \u001b[38;5;34m14\u001b[0m, \u001b[38;5;34m14\u001b[0m, \u001b[38;5;34m64\u001b[0m)     │             \u001b[38;5;34m0\u001b[0m │\n",
              "├─────────────────────────────────┼────────────────────────┼───────────────┤\n",
              "│ conv2d_2 (\u001b[38;5;33mConv2D\u001b[0m)               │ (\u001b[38;5;45mNone\u001b[0m, \u001b[38;5;34m12\u001b[0m, \u001b[38;5;34m12\u001b[0m, \u001b[38;5;34m128\u001b[0m)    │        \u001b[38;5;34m73,856\u001b[0m │\n",
              "├─────────────────────────────────┼────────────────────────┼───────────────┤\n",
              "│ max_pooling2d_2 (\u001b[38;5;33mMaxPooling2D\u001b[0m)  │ (\u001b[38;5;45mNone\u001b[0m, \u001b[38;5;34m6\u001b[0m, \u001b[38;5;34m6\u001b[0m, \u001b[38;5;34m128\u001b[0m)      │             \u001b[38;5;34m0\u001b[0m │\n",
              "├─────────────────────────────────┼────────────────────────┼───────────────┤\n",
              "│ flatten (\u001b[38;5;33mFlatten\u001b[0m)               │ (\u001b[38;5;45mNone\u001b[0m, \u001b[38;5;34m4608\u001b[0m)           │             \u001b[38;5;34m0\u001b[0m │\n",
              "├─────────────────────────────────┼────────────────────────┼───────────────┤\n",
              "│ dense (\u001b[38;5;33mDense\u001b[0m)                   │ (\u001b[38;5;45mNone\u001b[0m, \u001b[38;5;34m512\u001b[0m)            │     \u001b[38;5;34m2,359,808\u001b[0m │\n",
              "├─────────────────────────────────┼────────────────────────┼───────────────┤\n",
              "│ dropout (\u001b[38;5;33mDropout\u001b[0m)               │ (\u001b[38;5;45mNone\u001b[0m, \u001b[38;5;34m512\u001b[0m)            │             \u001b[38;5;34m0\u001b[0m │\n",
              "├─────────────────────────────────┼────────────────────────┼───────────────┤\n",
              "│ dense_1 (\u001b[38;5;33mDense\u001b[0m)                 │ (\u001b[38;5;45mNone\u001b[0m, \u001b[38;5;34m78\u001b[0m)             │        \u001b[38;5;34m40,014\u001b[0m │\n",
              "└─────────────────────────────────┴────────────────────────┴───────────────┘\n"
            ]
          },
          "metadata": {},
          "output_type": "display_data"
        },
        {
          "data": {
            "text/html": [
              "<pre style=\"white-space:pre;overflow-x:auto;line-height:normal;font-family:Menlo,'DejaVu Sans Mono',consolas,'Courier New',monospace\"><span style=\"font-weight: bold\"> Total params: </span><span style=\"color: #00af00; text-decoration-color: #00af00\">2,493,070</span> (9.51 MB)\n",
              "</pre>\n"
            ],
            "text/plain": [
              "\u001b[1m Total params: \u001b[0m\u001b[38;5;34m2,493,070\u001b[0m (9.51 MB)\n"
            ]
          },
          "metadata": {},
          "output_type": "display_data"
        },
        {
          "data": {
            "text/html": [
              "<pre style=\"white-space:pre;overflow-x:auto;line-height:normal;font-family:Menlo,'DejaVu Sans Mono',consolas,'Courier New',monospace\"><span style=\"font-weight: bold\"> Trainable params: </span><span style=\"color: #00af00; text-decoration-color: #00af00\">2,493,070</span> (9.51 MB)\n",
              "</pre>\n"
            ],
            "text/plain": [
              "\u001b[1m Trainable params: \u001b[0m\u001b[38;5;34m2,493,070\u001b[0m (9.51 MB)\n"
            ]
          },
          "metadata": {},
          "output_type": "display_data"
        },
        {
          "data": {
            "text/html": [
              "<pre style=\"white-space:pre;overflow-x:auto;line-height:normal;font-family:Menlo,'DejaVu Sans Mono',consolas,'Courier New',monospace\"><span style=\"font-weight: bold\"> Non-trainable params: </span><span style=\"color: #00af00; text-decoration-color: #00af00\">0</span> (0.00 B)\n",
              "</pre>\n"
            ],
            "text/plain": [
              "\u001b[1m Non-trainable params: \u001b[0m\u001b[38;5;34m0\u001b[0m (0.00 B)\n"
            ]
          },
          "metadata": {},
          "output_type": "display_data"
        }
      ],
      "source": [
        "from tensorflow.keras.optimizers import Adam\n",
        "import tensorflow as tf\n",
        "def create_model():\n",
        "    model = tf.keras.models.Sequential([\n",
        "          tf.keras.layers.Conv2D(32, (3,3), activation='relu',input_shape=(64,64,3)),\n",
        "          tf.keras.layers.MaxPooling2D(2,2),\n",
        "          tf.keras.layers.Conv2D(64, (3,3), activation='relu'),\n",
        "          tf.keras.layers.MaxPooling2D(2,2),\n",
        "          tf.keras.layers.Conv2D(128, (3,3), activation='relu'),\n",
        "          tf.keras.layers.MaxPooling2D(2,2),\n",
        "          tf.keras.layers.Flatten(),\n",
        "          tf.keras.layers.Dense(512, activation='relu'),\n",
        "          tf.keras.layers.Dropout(0.5),\n",
        "          tf.keras.layers.Dense(78, activation='softmax')\n",
        "      ])\n",
        "\n",
        "    model.compile(loss='sparse_categorical_crossentropy',\n",
        "                    optimizer=Adam(learning_rate=1e-4),\n",
        "                    metrics=['accuracy'])\n",
        "\n",
        "    return model\n",
        "\n",
        "model = create_model()\n",
        "model.summary()\n"
      ]
    },
    {
      "cell_type": "code",
      "execution_count": null,
      "id": "610728d8",
      "metadata": {
        "execution": {
          "iopub.execute_input": "2024-12-05T06:25:26.294737Z",
          "iopub.status.busy": "2024-12-05T06:25:26.294336Z",
          "iopub.status.idle": "2024-12-05T06:30:09.273126Z",
          "shell.execute_reply": "2024-12-05T06:30:09.271869Z"
        },
        "papermill": {
          "duration": 282.990283,
          "end_time": "2024-12-05T06:30:09.275674",
          "exception": false,
          "start_time": "2024-12-05T06:25:26.285391",
          "status": "completed"
        },
        "tags": [],
        "id": "610728d8",
        "outputId": "fc2240cf-8b23-40b0-a60c-1d1a0dd120ef"
      },
      "outputs": [
        {
          "name": "stdout",
          "output_type": "stream",
          "text": [
            "Epoch 1/20\n",
            "\u001b[1m98/98\u001b[0m \u001b[32m━━━━━━━━━━━━━━━━━━━━\u001b[0m\u001b[37m\u001b[0m \u001b[1m15s\u001b[0m 131ms/step - accuracy: 0.0073 - loss: 4.3874 - val_accuracy: 0.0321 - val_loss: 26.3582\n",
            "Epoch 2/20\n",
            "\u001b[1m98/98\u001b[0m \u001b[32m━━━━━━━━━━━━━━━━━━━━\u001b[0m\u001b[37m\u001b[0m \u001b[1m13s\u001b[0m 128ms/step - accuracy: 0.0291 - loss: 4.3430 - val_accuracy: 0.0590 - val_loss: 44.3070\n",
            "Epoch 3/20\n",
            "\u001b[1m98/98\u001b[0m \u001b[32m━━━━━━━━━━━━━━━━━━━━\u001b[0m\u001b[37m\u001b[0m \u001b[1m12s\u001b[0m 122ms/step - accuracy: 0.0368 - loss: 4.2643 - val_accuracy: 0.0949 - val_loss: 127.8004\n",
            "Epoch 4/20\n",
            "\u001b[1m98/98\u001b[0m \u001b[32m━━━━━━━━━━━━━━━━━━━━\u001b[0m\u001b[37m\u001b[0m \u001b[1m12s\u001b[0m 127ms/step - accuracy: 0.0690 - loss: 4.0167 - val_accuracy: 0.2064 - val_loss: 159.3589\n",
            "Epoch 5/20\n",
            "\u001b[1m98/98\u001b[0m \u001b[32m━━━━━━━━━━━━━━━━━━━━\u001b[0m\u001b[37m\u001b[0m \u001b[1m13s\u001b[0m 128ms/step - accuracy: 0.1463 - loss: 3.6611 - val_accuracy: 0.3026 - val_loss: 167.3796\n",
            "Epoch 6/20\n",
            "\u001b[1m98/98\u001b[0m \u001b[32m━━━━━━━━━━━━━━━━━━━━\u001b[0m\u001b[37m\u001b[0m \u001b[1m12s\u001b[0m 122ms/step - accuracy: 0.2293 - loss: 3.2150 - val_accuracy: 0.3641 - val_loss: 187.1590\n",
            "Epoch 7/20\n",
            "\u001b[1m98/98\u001b[0m \u001b[32m━━━━━━━━━━━━━━━━━━━━\u001b[0m\u001b[37m\u001b[0m \u001b[1m13s\u001b[0m 131ms/step - accuracy: 0.3142 - loss: 2.7529 - val_accuracy: 0.4282 - val_loss: 183.3419\n",
            "Epoch 8/20\n",
            "\u001b[1m98/98\u001b[0m \u001b[32m━━━━━━━━━━━━━━━━━━━━\u001b[0m\u001b[37m\u001b[0m \u001b[1m12s\u001b[0m 122ms/step - accuracy: 0.4055 - loss: 2.3666 - val_accuracy: 0.4872 - val_loss: 182.7069\n",
            "Epoch 9/20\n",
            "\u001b[1m98/98\u001b[0m \u001b[32m━━━━━━━━━━━━━━━━━━━━\u001b[0m\u001b[37m\u001b[0m \u001b[1m21s\u001b[0m 128ms/step - accuracy: 0.4411 - loss: 2.1371 - val_accuracy: 0.5000 - val_loss: 189.3806\n",
            "Epoch 10/20\n",
            "\u001b[1m98/98\u001b[0m \u001b[32m━━━━━━━━━━━━━━━━━━━━\u001b[0m\u001b[37m\u001b[0m \u001b[1m12s\u001b[0m 122ms/step - accuracy: 0.5382 - loss: 1.8526 - val_accuracy: 0.5397 - val_loss: 196.9527\n",
            "Epoch 11/20\n",
            "\u001b[1m98/98\u001b[0m \u001b[32m━━━━━━━━━━━━━━━━━━━━\u001b[0m\u001b[37m\u001b[0m \u001b[1m12s\u001b[0m 127ms/step - accuracy: 0.5914 - loss: 1.5762 - val_accuracy: 0.5577 - val_loss: 196.3828\n",
            "Epoch 12/20\n",
            "\u001b[1m98/98\u001b[0m \u001b[32m━━━━━━━━━━━━━━━━━━━━\u001b[0m\u001b[37m\u001b[0m \u001b[1m12s\u001b[0m 127ms/step - accuracy: 0.6309 - loss: 1.3841 - val_accuracy: 0.5910 - val_loss: 189.9646\n",
            "Epoch 13/20\n",
            "\u001b[1m98/98\u001b[0m \u001b[32m━━━━━━━━━━━━━━━━━━━━\u001b[0m\u001b[37m\u001b[0m \u001b[1m12s\u001b[0m 121ms/step - accuracy: 0.6571 - loss: 1.2784 - val_accuracy: 0.5936 - val_loss: 197.6678\n",
            "Epoch 14/20\n",
            "\u001b[1m98/98\u001b[0m \u001b[32m━━━━━━━━━━━━━━━━━━━━\u001b[0m\u001b[37m\u001b[0m \u001b[1m12s\u001b[0m 122ms/step - accuracy: 0.7058 - loss: 1.0726 - val_accuracy: 0.6128 - val_loss: 202.6710\n",
            "Epoch 15/20\n",
            "\u001b[1m98/98\u001b[0m \u001b[32m━━━━━━━━━━━━━━━━━━━━\u001b[0m\u001b[37m\u001b[0m \u001b[1m21s\u001b[0m 122ms/step - accuracy: 0.7474 - loss: 0.9487 - val_accuracy: 0.6167 - val_loss: 203.4529\n",
            "Epoch 16/20\n",
            "\u001b[1m98/98\u001b[0m \u001b[32m━━━━━━━━━━━━━━━━━━━━\u001b[0m\u001b[37m\u001b[0m \u001b[1m12s\u001b[0m 123ms/step - accuracy: 0.7432 - loss: 0.8996 - val_accuracy: 0.6269 - val_loss: 204.3521\n",
            "Epoch 17/20\n",
            "\u001b[1m98/98\u001b[0m \u001b[32m━━━━━━━━━━━━━━━━━━━━\u001b[0m\u001b[37m\u001b[0m \u001b[1m20s\u001b[0m 122ms/step - accuracy: 0.7938 - loss: 0.7639 - val_accuracy: 0.6474 - val_loss: 207.8030\n",
            "Epoch 18/20\n",
            "\u001b[1m98/98\u001b[0m \u001b[32m━━━━━━━━━━━━━━━━━━━━\u001b[0m\u001b[37m\u001b[0m \u001b[1m21s\u001b[0m 128ms/step - accuracy: 0.8233 - loss: 0.6535 - val_accuracy: 0.6577 - val_loss: 211.9626\n",
            "Epoch 19/20\n",
            "\u001b[1m98/98\u001b[0m \u001b[32m━━━━━━━━━━━━━━━━━━━━\u001b[0m\u001b[37m\u001b[0m \u001b[1m12s\u001b[0m 122ms/step - accuracy: 0.8354 - loss: 0.6001 - val_accuracy: 0.6423 - val_loss: 217.4162\n",
            "Epoch 20/20\n",
            "\u001b[1m98/98\u001b[0m \u001b[32m━━━━━━━━━━━━━━━━━━━━\u001b[0m\u001b[37m\u001b[0m \u001b[1m12s\u001b[0m 127ms/step - accuracy: 0.8521 - loss: 0.5257 - val_accuracy: 0.6641 - val_loss: 221.9178\n"
          ]
        },
        {
          "data": {
            "text/plain": [
              "<keras.src.callbacks.history.History at 0x7cca2c2724a0>"
            ]
          },
          "execution_count": 19,
          "metadata": {},
          "output_type": "execute_result"
        }
      ],
      "source": [
        "from sklearn.model_selection import train_test_split\n",
        "import tensorflow as tf\n",
        "from tensorflow.keras.utils import to_categorical\n",
        "from tensorflow.keras.preprocessing.image import ImageDataGenerator\n",
        "from tensorflow.keras.optimizers import SGD, Adam\n",
        "from tensorflow.keras.models import Sequential, load_model\n",
        "\n",
        "\n",
        "y_train= np.array(df_train['MEDICINE_NAME'])\n",
        "y_val= np.array(df_val['MEDICINE_NAME'])\n",
        "y_test = np.array(df_test['MEDICINE_NAME'])\n",
        "\n",
        "model.fit(train,y_train,validation_data=(val, y_val),epochs=20)\n"
      ]
    },
    {
      "cell_type": "code",
      "execution_count": null,
      "id": "07796674",
      "metadata": {
        "execution": {
          "iopub.execute_input": "2024-12-05T06:30:09.576617Z",
          "iopub.status.busy": "2024-12-05T06:30:09.575843Z",
          "iopub.status.idle": "2024-12-05T06:30:11.052177Z",
          "shell.execute_reply": "2024-12-05T06:30:11.050934Z"
        },
        "papermill": {
          "duration": 1.597342,
          "end_time": "2024-12-05T06:30:11.054777",
          "exception": false,
          "start_time": "2024-12-05T06:30:09.457435",
          "status": "completed"
        },
        "tags": [],
        "id": "07796674",
        "outputId": "fb4c29cd-0f08-4af7-b650-fb37b98303dc"
      },
      "outputs": [
        {
          "name": "stdout",
          "output_type": "stream",
          "text": [
            "\u001b[1m25/25\u001b[0m \u001b[32m━━━━━━━━━━━━━━━━━━━━\u001b[0m\u001b[37m\u001b[0m \u001b[1m1s\u001b[0m 32ms/step - accuracy: 0.6092 - loss: 1.8433\n",
            "Test Accuracy: 55.77%\n"
          ]
        }
      ],
      "source": [
        "loss, accuracy = model.evaluate(test, y_test)\n",
        "print(f'Test Accuracy: {accuracy * 100:.2f}%')\n",
        "\n",
        "# Save the model\n",
        "model.save('prescription_classification_model.h5')\n",
        "\n"
      ]
    },
    {
      "cell_type": "code",
      "execution_count": null,
      "id": "4017e1b0",
      "metadata": {
        "execution": {
          "iopub.execute_input": "2024-12-05T06:30:11.293386Z",
          "iopub.status.busy": "2024-12-05T06:30:11.292954Z",
          "iopub.status.idle": "2024-12-05T06:30:11.298749Z",
          "shell.execute_reply": "2024-12-05T06:30:11.297690Z"
        },
        "papermill": {
          "duration": 0.129649,
          "end_time": "2024-12-05T06:30:11.300902",
          "exception": false,
          "start_time": "2024-12-05T06:30:11.171253",
          "status": "completed"
        },
        "tags": [],
        "id": "4017e1b0"
      },
      "outputs": [],
      "source": [
        "def preprocess_image(image_path):\n",
        "\n",
        "    img = cv2.imread(image_path, cv2.IMREAD_GRAYSCALE)\n",
        "\n",
        "    img = cv2.resize(img, (128, 32))\n",
        "\n",
        "    _, img = cv2.threshold(img, 150, 255, cv2.THRESH_BINARY + cv2.THRESH_OTSU)\n",
        "\n",
        "    return img"
      ]
    },
    {
      "cell_type": "code",
      "execution_count": null,
      "id": "45a6fcaa",
      "metadata": {
        "execution": {
          "iopub.execute_input": "2024-12-05T06:30:11.539607Z",
          "iopub.status.busy": "2024-12-05T06:30:11.538747Z",
          "iopub.status.idle": "2024-12-05T06:30:11.544393Z",
          "shell.execute_reply": "2024-12-05T06:30:11.543292Z"
        },
        "papermill": {
          "duration": 0.127409,
          "end_time": "2024-12-05T06:30:11.546473",
          "exception": false,
          "start_time": "2024-12-05T06:30:11.419064",
          "status": "completed"
        },
        "tags": [],
        "id": "45a6fcaa"
      },
      "outputs": [],
      "source": [
        "from PIL import Image\n",
        "def extract_text_with_ocr(image_path):\n",
        "    preprocessed_image = preprocess_image(image_path)\n",
        "\n",
        "    img = Image.fromarray(preprocessed_image)\n",
        "\n",
        "    extracted_text = pytesseract.image_to_string(img)\n",
        "\n",
        "    return extracted_text"
      ]
    },
    {
      "cell_type": "code",
      "execution_count": null,
      "id": "fc5a6b5e",
      "metadata": {
        "execution": {
          "iopub.execute_input": "2024-12-05T06:30:11.786345Z",
          "iopub.status.busy": "2024-12-05T06:30:11.785964Z",
          "iopub.status.idle": "2024-12-05T06:30:11.796916Z",
          "shell.execute_reply": "2024-12-05T06:30:11.796025Z"
        },
        "papermill": {
          "duration": 0.133814,
          "end_time": "2024-12-05T06:30:11.799352",
          "exception": false,
          "start_time": "2024-12-05T06:30:11.665538",
          "status": "completed"
        },
        "tags": [],
        "id": "fc5a6b5e"
      },
      "outputs": [],
      "source": [
        "import pytesseract\n",
        "def XYocr(folder):\n",
        "    lower=folder.lower()\n",
        "    df=pd.read_csv(f\"/kaggle/input/doctors-handwritten-prescription-bd-dataset/Doctor’s Handwritten Prescription BD dataset/{folder}/{lower}_labels.csv\")\n",
        "    Y=df['MEDICINE_NAME']\n",
        "\n",
        "    image_folder=f\"/kaggle/input/doctors-handwritten-prescription-bd-dataset/Doctor’s Handwritten Prescription BD dataset/{folder}/{lower}_words/\"\n",
        "    image_paths=[os.path.join(image_folder,filename) for filename in df['IMAGE']]\n",
        "    X = [extract_text_with_ocr(image_path) for image_path in image_paths]\n",
        "\n",
        "    return X,Y"
      ]
    },
    {
      "cell_type": "code",
      "execution_count": null,
      "id": "950b8fcd",
      "metadata": {
        "execution": {
          "iopub.execute_input": "2024-12-05T06:30:12.038204Z",
          "iopub.status.busy": "2024-12-05T06:30:12.037308Z",
          "iopub.status.idle": "2024-12-05T06:52:01.758590Z",
          "shell.execute_reply": "2024-12-05T06:52:01.757503Z"
        },
        "papermill": {
          "duration": 1309.844308,
          "end_time": "2024-12-05T06:52:01.761044",
          "exception": false,
          "start_time": "2024-12-05T06:30:11.916736",
          "status": "completed"
        },
        "tags": [],
        "id": "950b8fcd",
        "outputId": "501a1515-da5c-4004-e102-07e455f097ea"
      },
      "outputs": [
        {
          "name": "stderr",
          "output_type": "stream",
          "text": [
            "BertForMaskedLM has generative capabilities, as `prepare_inputs_for_generation` is explicitly overwritten. However, it doesn't directly inherit from `GenerationMixin`. From 👉v4.50👈 onwards, `PreTrainedModel` will NOT inherit from `GenerationMixin`, and this model will lose the ability to call `generate` and other related functions.\n",
            "  - If you're using `trust_remote_code=True`, you can get rid of this warning by loading the model with an auto class. See https://huggingface.co/docs/transformers/en/model_doc/auto#auto-classes\n",
            "  - If you are the owner of the model architecture code, please modify your model class such that it inherits from `GenerationMixin` (after `PreTrainedModel`, otherwise you'll get an exception).\n",
            "  - If you are not the owner of the model architecture class, please contact the model code owner to update it.\n",
            "/opt/conda/lib/python3.10/site-packages/transformers/optimization.py:591: FutureWarning: This implementation of AdamW is deprecated and will be removed in a future version. Use the PyTorch implementation torch.optim.AdamW instead, or set `no_deprecation_warning=True` to disable this warning\n",
            "  warnings.warn(\n"
          ]
        },
        {
          "data": {
            "text/html": [
              "\n",
              "    <div>\n",
              "      \n",
              "      <progress value='2340' max='2340' style='width:300px; height:20px; vertical-align: middle;'></progress>\n",
              "      [2340/2340 07:31, Epoch 3/3]\n",
              "    </div>\n",
              "    <table border=\"1\" class=\"dataframe\">\n",
              "  <thead>\n",
              " <tr style=\"text-align: left;\">\n",
              "      <th>Epoch</th>\n",
              "      <th>Training Loss</th>\n",
              "      <th>Validation Loss</th>\n",
              "      <th>Accuracy</th>\n",
              "    </tr>\n",
              "  </thead>\n",
              "  <tbody>\n",
              "    <tr>\n",
              "      <td>1</td>\n",
              "      <td>0.015200</td>\n",
              "      <td>0.005529</td>\n",
              "      <td>0.999099</td>\n",
              "    </tr>\n",
              "    <tr>\n",
              "      <td>2</td>\n",
              "      <td>0.031300</td>\n",
              "      <td>0.004717</td>\n",
              "      <td>0.999099</td>\n",
              "    </tr>\n",
              "    <tr>\n",
              "      <td>3</td>\n",
              "      <td>0.001300</td>\n",
              "      <td>0.004585</td>\n",
              "      <td>0.999099</td>\n",
              "    </tr>\n",
              "  </tbody>\n",
              "</table><p>"
            ],
            "text/plain": [
              "<IPython.core.display.HTML object>"
            ]
          },
          "metadata": {},
          "output_type": "display_data"
        },
        {
          "name": "stderr",
          "output_type": "stream",
          "text": [
            "There were missing keys in the checkpoint model loaded: ['cls.predictions.decoder.weight', 'cls.predictions.decoder.bias'].\n"
          ]
        },
        {
          "data": {
            "text/html": [
              "\n",
              "    <div>\n",
              "      \n",
              "      <progress value='390' max='195' style='width:300px; height:20px; vertical-align: middle;'></progress>\n",
              "      [195/195 00:22]\n",
              "    </div>\n",
              "    "
            ],
            "text/plain": [
              "<IPython.core.display.HTML object>"
            ]
          },
          "metadata": {},
          "output_type": "display_data"
        },
        {
          "name": "stdout",
          "output_type": "stream",
          "text": [
            "Final Test Accuracy: 0.9991\n",
            "Final Test Loss: 0.0047\n"
          ]
        }
      ],
      "source": [
        "from sklearn.metrics import accuracy_score\n",
        "from transformers import (\n",
        "    BertTokenizerFast,\n",
        "    BertConfig,\n",
        "    BertForMaskedLM,\n",
        "    AdamW,\n",
        "    Trainer,\n",
        "    TrainingArguments,\n",
        "    DataCollatorForSeq2Seq\n",
        ")\n",
        "import torch\n",
        "from torch.utils.data import Dataset\n",
        "\n",
        "from tokenizers import Tokenizer\n",
        "from tokenizers.models import WordLevel\n",
        "from tokenizers.pre_tokenizers import Whitespace\n",
        "from tokenizers.trainers import WordLevelTrainer\n",
        "\n",
        "\n",
        "xTrain,yTrain=XYocr(\"Training\")\n",
        "xVal,yVal=XYocr(\"Validation\")\n",
        "xTest,yTest = XYocr(\"Testing\")\n",
        "# Define your custom vocabulary (character-level)\n",
        "vocab_list = list(\"abcdefghijklmnopqrstuvwxyzABCDEFGHIJKLMNOPQRSTUVWXYZ .,!?\")\n",
        "vocab = {char: i for i, char in enumerate(vocab_list, start=1)}\n",
        "vocab[\"[PAD]\"] = 0  # Add padding token\n",
        "vocab[\"[MASK]\"] = len(vocab) + 1  # Mask token\n",
        "vocab[\"[CLS]\"] = len(vocab) + 2  # CLS token\n",
        "vocab[\"[SEP]\"] = len(vocab) + 3  # SEP token\n",
        "vocab[\"[UNK]\"] = len(vocab) + 4  # Unknown token\n",
        "\n",
        "# Save the vocab to a file\n",
        "vocab_file = \"vocab.txt\"\n",
        "with open(vocab_file, 'w') as f:\n",
        "    for token in vocab:\n",
        "        f.write(token + \"\\n\")\n",
        "\n",
        "# Initialize the tokenizer with the custom vocabulary\n",
        "tokenizer = BertTokenizerFast(vocab_file=vocab_file)\n",
        "tokenizer.pad_token = \"[PAD]\"\n",
        "tokenizer.mask_token = \"[MASK]\"\n",
        "tokenizer.cls_token = \"[CLS]\"\n",
        "tokenizer.sep_token = \"[SEP]\"\n",
        "tokenizer.unk_token = \"[UNK]\"\n",
        "\n",
        "# Save tokenizer to output directory\n",
        "tokenizer_output_dir = \"output_tokenizer\"\n",
        "os.makedirs(tokenizer_output_dir, exist_ok=True)\n",
        "tokenizer.save_pretrained(tokenizer_output_dir)\n",
        "\n",
        "# Create a custom Dataset class for loading the data\n",
        "class CustomDataset(Dataset):\n",
        "    def __init__(self, x_data, y_data, tokenizer, max_length=128):\n",
        "        self.x_data = x_data\n",
        "        self.y_data = y_data\n",
        "        self.tokenizer = tokenizer\n",
        "        self.max_length = max_length\n",
        "\n",
        "    def __len__(self):\n",
        "        return len(self.x_data)\n",
        "\n",
        "    def __getitem__(self, idx):\n",
        "        x = self.x_data[idx]\n",
        "        y = self.y_data[idx]\n",
        "\n",
        "        inputs = self.tokenizer(x, truncation=True, padding='max_length', max_length=self.max_length, return_tensors='pt')\n",
        "        labels = self.tokenizer(y, truncation=True, padding='max_length', max_length=self.max_length, return_tensors='pt')\n",
        "\n",
        "        return {\n",
        "            'input_ids': inputs['input_ids'].squeeze(),\n",
        "            'attention_mask': inputs['attention_mask'].squeeze(),\n",
        "            'labels': labels['input_ids'].squeeze()\n",
        "        }\n",
        "\n",
        "# Prepare datasets\n",
        "train_dataset = CustomDataset(xTrain, yTrain, tokenizer)\n",
        "val_dataset = CustomDataset(xVal, yVal, tokenizer)\n",
        "test_dataset = CustomDataset(xTest, yTest, tokenizer)\n",
        "\n",
        "# Set up BERT model configuration\n",
        "config = BertConfig(\n",
        "    vocab_size=len(vocab),\n",
        "    hidden_size=256,\n",
        "    num_hidden_layers=6,\n",
        "    num_attention_heads=8,\n",
        "    intermediate_size=512,\n",
        "    max_position_embeddings=512\n",
        ")\n",
        "\n",
        "# Initialize the BERT model for masked language modeling\n",
        "model = BertForMaskedLM(config)\n",
        "\n",
        "# Set up optimizer and training arguments\n",
        "optimizer = AdamW(model.parameters(), lr=0.0001)\n",
        "\n",
        "# Updated TrainingArguments with necessary logging and reporting fixes\n",
        "training_args = TrainingArguments(\n",
        "    output_dir=\"output_model\",  # Save model outputs here\n",
        "    num_train_epochs=3,\n",
        "    per_device_train_batch_size=4,\n",
        "    per_device_eval_batch_size=4,\n",
        "    eval_strategy=\"epoch\",  # Evaluate at the end of each epoch\n",
        "    save_strategy=\"epoch\",  # Save model at the end of each epoch\n",
        "    logging_dir=None,  # No need to log\n",
        "    logging_steps=1,  # Reduced logging\n",
        "    logging_first_step=False,  # Do not log first step\n",
        "    report_to=\"none\",  # Disable WANDB and other reporting\n",
        "    save_steps=10,\n",
        "    save_total_limit=1,  # Keep only the most recent model\n",
        "    load_best_model_at_end=True,  # Load the best model at the end\n",
        "    disable_tqdm=False,  # Keep tqdm progress bar\n",
        "    fp16=False  # Disable automatic mixed precision\n",
        ")\n",
        "\n",
        "# Custom function to compute accuracy\n",
        "def compute_accuracy(p):\n",
        "    preds, labels = p\n",
        "    preds = torch.tensor(preds)  # Convert to tensor\n",
        "    preds = torch.argmax(preds, dim=-1)\n",
        "    return {\"accuracy\": accuracy_score(labels.flatten(), preds.flatten())}\n",
        "\n",
        "# Set up Trainer\n",
        "trainer = Trainer(\n",
        "    model=model,\n",
        "    args=training_args,\n",
        "    train_dataset=train_dataset,  # Training dataset\n",
        "    eval_dataset=val_dataset,  # Validation dataset\n",
        "    optimizers=(optimizer, None),\n",
        "    compute_metrics=compute_accuracy\n",
        ")\n",
        "\n",
        "# Train the model with epoch-wise output\n",
        "trainer.train()\n",
        "\n",
        "# Evaluate the model after training on the validation set\n",
        "final_metrics = trainer.evaluate(val_dataset)\n",
        "final_accuracy = final_metrics[\"eval_accuracy\"]\n",
        "final_loss = final_metrics[\"eval_loss\"]\n",
        "\n",
        "# Evaluate the model on the test set\n",
        "test_metrics = trainer.evaluate(test_dataset)\n",
        "test_accuracy = test_metrics[\"eval_accuracy\"]\n",
        "test_loss = test_metrics[\"eval_loss\"]\n",
        "\n",
        "# Display epoch-wise output and final test results\n",
        "print(f\"Final Test Accuracy: {test_accuracy:.4f}\")\n",
        "print(f\"Final Test Loss: {test_loss:.4f}\")"
      ]
    },
    {
      "cell_type": "code",
      "source": [],
      "metadata": {
        "id": "wljG72dX1m0K"
      },
      "id": "wljG72dX1m0K",
      "execution_count": null,
      "outputs": []
    }
  ],
  "metadata": {
    "kaggle": {
      "accelerator": "gpu",
      "dataSources": [
        {
          "datasetId": 4982232,
          "sourceId": 8378585,
          "sourceType": "datasetVersion"
        }
      ],
      "dockerImageVersionId": 30786,
      "isGpuEnabled": true,
      "isInternetEnabled": false,
      "language": "python",
      "sourceType": "notebook"
    },
    "kernelspec": {
      "display_name": "Python 3",
      "language": "python",
      "name": "python3"
    },
    "language_info": {
      "codemirror_mode": {
        "name": "ipython",
        "version": 3
      },
      "file_extension": ".py",
      "mimetype": "text/x-python",
      "name": "python",
      "nbconvert_exporter": "python",
      "pygments_lexer": "ipython3",
      "version": "3.10.14"
    },
    "papermill": {
      "default_parameters": {},
      "duration": 1665.56546,
      "end_time": "2024-12-05T06:52:05.447693",
      "environment_variables": {},
      "exception": null,
      "input_path": "__notebook__.ipynb",
      "output_path": "__notebook__.ipynb",
      "parameters": {},
      "start_time": "2024-12-05T06:24:19.882233",
      "version": "2.6.0"
    },
    "colab": {
      "provenance": [],
      "include_colab_link": true
    }
  },
  "nbformat": 4,
  "nbformat_minor": 5
}